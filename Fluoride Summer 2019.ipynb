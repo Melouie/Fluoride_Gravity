{
  "nbformat": 4,
  "nbformat_minor": 0,
  "metadata": {
    "colab": {
      "name": "Fluoride2019Summer.ipynb",
      "version": "0.3.2",
      "provenance": [],
      "collapsed_sections": [],
      "include_colab_link": true
    },
    "kernelspec": {
      "name": "python3",
      "display_name": "Python 3"
    }
  },
  "cells": [
    {
      "cell_type": "markdown",
      "metadata": {
        "id": "view-in-github",
        "colab_type": "text"
      },
      "source": [
        "<a href=\"https://colab.research.google.com/github/Melouie/Fluoride_Gravity/blob/master/Fluoride%20Summer%202019.ipynb\" target=\"_parent\"><img src=\"https://colab.research.google.com/assets/colab-badge.svg\" alt=\"Open In Colab\"/></a>"
      ]
    },
    {
      "cell_type": "markdown",
      "metadata": {
        "id": "awle31N5ykbr",
        "colab_type": "text"
      },
      "source": [
        "# Fluoride Removal, Summer 2019\n",
        "\n",
        "\n",
        "---\n",
        "\n",
        "\n",
        "#### Cindy Jin, Melissa Louie, Mike Reese\n",
        "#### 3 July 2019\n",
        "This publication Fluoride, Spring 2019 was developed under Assistance Agreement No. SU-83695001 awarded by the U.S. Environmental Protection Agency to Cornell University. It has not been formally reviewed by EPA. The views expressed in this document are solely those of Cindy Jin, Melissa Louie, and Mike Reese and do not necessarily reflect those of the Agency. EPA does not endorse any products or commercial services mentioned in this publication."
      ]
    },
    {
      "cell_type": "markdown",
      "metadata": {
        "id": "lGzNCdLa1f38",
        "colab_type": "text"
      },
      "source": [
        "##Abstract\n",
        "The Summer 2019 Fluoride team investigated issues related to the Automated and Gravity systems, with the goal of determining ideal conditions for removing fluoride. Initial qualitative tests prompted fabrication changes. The team increased the sedimentation tube angle from 60° to 70° to avoid accumulation of floc \"gel\" on the plate settler. Clay was then added to observe its effects on the floc blanket. Fluoride concentrations were measured with an ion electrode to determine removal efficiency and to continue developing the Langmuir Adsorption Isotherm model. The group will continue testing concentrations of clay and PACl to determine optimal fluoride removal conditions."
      ]
    },
    {
      "cell_type": "markdown",
      "metadata": {
        "id": "TpShT1NO1jsq",
        "colab_type": "text"
      },
      "source": [
        "## Introduction\n",
        "\n",
        "The majority of AguaClara plants are located in Central America, where the sources of surface water originate from rivers and mountain streams. AguaClara's mission of providing access to safe drinking water for all has motivated the AguaClara team to expand and develop new goals. By considering and analyzing the differences in drinking water collected from groundwater sources in other regions around the world, AguaClara can serve communities outside of Central America who are deprived of access to safe drinking water.\n",
        "\n",
        "At some locations where there is little to no fluoride in drinking water, fluoride is added in for the purpose of strengthening teeth and deteriorating natural deposits [(NYC DEP, 2016)](http://www.nyc.gov/html/dep/pdf/wsstate16.pdf). However, there are detrimental consequences when there is an excess concentration of fluoride in the water being consumed by inhabitants in the area. For example, there has been moderate to high fluoride pollution in regions such as Algeria, Thailand, Ghana, India, and Iran, whose major source of drinking water comes from groundwater sources. The pollution of groundwater in these regions is due to the mobile dissolution of fluorite, apatite, and topaz from weathered rocks, increasing the levels of fluoride in the groundwater [(Bhattacharya and Samal, 2018)](http://www.isca.in/rjrs/archive/v7/i4/6.ISCA-RJRS-2018-028.pdf). The effects of consuming excess fluoride include dental, skeletal, developmental, neurological, endocrine, reproductive, and carcinogenic issues that affect the health of the communities in areas of high fluoride concentrations [(Bhattacharya and Samal, 2018)](http://www.isca.in/rjrs/archive/v7/i4/6.ISCA-RJRS-2018-028.pdf). Therefore, the World Health Organization (WHO) regulated the concentration limit for fluoride in drinking water to be 1.5 mg/L [(Water-related diseases, 2016)](https://www.who.int/water_sanitation_health/diseases-risks/diseases/fluorosis/en/).\n",
        "\n",
        "In India, the Bureau of India Standards set an upper limit of fluoride concentrations in drinking water to be 1 mg/L [(Bureau of India Standards, 2012)](https://archive.org/details/gov.in.is.10500.2012). However, more than 65 million Indians consume drinking water above the recommended limit of 1.5 mg/L and some locations in India contain up to 20 mg/L, which risks the health of many communities [(LeChevallier and Au, 2004)](https://www.who.int/water_sanitation_health/publications/9241562552/en/).\n",
        "\n",
        "AguaClara aspires to achieve the recommended limit of 1 mg/L or lower by the Bureau of India Standards and to implement the gravity-powered system of fluoride removal into the communities with excess concentrations of fluoride. The Fluoride team will be testing the automated apparatus and the gravity-powered apparatus with PACl and  fluoride to optimize fluoride removal to achieve residual concentration of less than 1 mg/L. If the gravity-powered fluoride removal apparatus operates in the optimal conditions of removing fluoride to a concentration of 1 mg/L, feasibility analysis on site will be performed to test whether the system can be used in the communities in India, which will allow AguaClara to provide access to safe drinking water in India and other locations that obtain water from groundwater sources."
      ]
    },
    {
      "cell_type": "markdown",
      "metadata": {
        "id": "4gfgHIlZ2Evd",
        "colab_type": "text"
      },
      "source": [
        "## Literature Review\n",
        "###Fluoride\n",
        "Found in large concentrations in groundwater sources around the world, fluoride can pose serious health concerns if ingested in large quantities. While fluoride concentrations of 1.0 mg/L to 1.5 mg/L in drinking water are generally considered healthy and can help improve dental health, levels above 1.5 mg/L can cause dental and skeletal fluorosis, to which children are especially susceptible ([Jagtap et al, 2012](https://pubs.acs.org/doi/pdf/10.1021/cr2002855)). Fluoride levels are generally found to be below 1.5 mg/L in seawater, rivers, and lakes, but can be much higher in groundwater sources, especially in areas where minerals containing fluoride are located in abundance ([Fawell et al, 2006](https://books.google.com/books?id=7xu1yf-OC8oC&lpg=PR5&ots=f1CYqkjcYO&dq=fluoride%20drinking%20water&lr&pg=PA6#v=onepage&q=fluoride%20drinking%20water&f=false)). Thus, the presence of fluoride poses an especially significant risk in regions that obtain much of their drinking water from underground aquifers. In rural India, for example, approximately 80% of water used for drinking comes from groundwater sources ([Jagtap et al, 2012](https://pubs.acs.org/doi/pdf/10.1021/cr2002855)). \n",
        "\n",
        "The World Health Organization has set a limit on fluoride in drinking water at 1.5 mg/L based on evidence that adverse health effects become prevalent at values above this standard. Furthermore, the WHO notes that in regions with elevated levels of fluoride intake via drinking water, \"fluoride is a significant cause of morbidity.\" ([WHO, 2004](https://apps.who.int/iris/handle/10665/42852)). For this reason, the team is aiming for a reduction of fluoride in effluent water that adheres to this standard of 1.5 mg/L.\n",
        "\n",
        "###Polyaluminum Chloride (PACl) and Defluoridation\n",
        "One common method of defluoridation for drinking water is a system that implements coagulation, flocculation, and sedimentation. Coagulation is a process that involves adding a positively charged chemical coagulant to the raw water to be treated. Once the coagulant is well-mixed, it begins to destabilize colloidal and dissolved particles in the raw water ([EPA, 2007](https://oaspub.epa.gov/tdb/pages/treatment/treatmentOverview.do?treatmentProcessId=1934681921)). In the case of fluoride, polyaluminum chloride (PACl) is added to raw water and mixed well. PACl is used as the coagulant due to its reputation for being a superior coagulant for fluoride removal compared to other common aluminum salts. In addition, PACl has other logistic advantages such as being less reliant on raw water pH, a reduced level of alkalinity neutralization, and less waste production - all of which can be beneficial when considering implementing a treatment technology in a developing region ([He et al, 2016](https://www.sciencedirect.com/science/article/pii/S138358661630017X)). Dissolved fluoride ions are then targeted by this PACl and enter the flocculation stage of treatment. In flocculation, the destabilized particles from coagulation are encouraged to agglomerate together to form \"flocs\". There are several ways to instigate the agglomeration of these particles, with some common methods being a gentle mix, or a baffled plug-flow reactor ([EPA, 2007](https://oaspub.epa.gov/tdb/pages/treatment/treatmentOverview.do?treatmentProcessId=1934681921)). The goal during the period of flocculation is to maximize the probability of particle interaction between destabilized matter so that these species of interest will begin to form large flocs in the reactor. In other words, \"Aggregation requires successful collisions. Success is defined by particles attaching when they collide\" ([Weber-Shirk et al, 2018](aguaclara.github.io/Textbook/index.html)). These successful collisions are what allow for the removal of fluoride in the sedimentation process, where the agglomerated particles are separated from the water using gravity settling or other clarification methods ([EPA 2007](https://oaspub.epa.gov/tdb/pages/treatment/treatmentOverview.do?treatmentProcessId=1934681921)). \n",
        "\n",
        "###The Floc Blanket\n",
        "\n",
        "Floc blankets are formed in tanks where water is fed downwards into a hopper-shaped geometry and allowed to redirect upwards. This flow redirection resuspends any particles that have settled to the bottom of the tank so that they may begin to agglomerate into a fluidized layer of floc in the tank ([Garland et al, 2016](http://doi.org/10.1089/ees.2015.0314). This collection of flocs, or blanket, typically rises to a point that is controlled by some type of weir or other means of particle separation from the treated water ([Gregory 1977](https://spiral.imperial.ac.uk/bitstream/10044/1/22645/2/Gregory-R-1977-MPhil-Thesis.pdf)).\n",
        "\n",
        "The benefit of using a floc blanket for particle removal is that as water travels upwards through the blanket, there is an increased chance that particles still in said water will be captured via collision in the blanket. The general idea is that the thicker the floc blanket, the more opportunities a floc particles will have to get caught on a larger particles somewhere in the blanket. While this is great for particles removal efficiency, it should be noted that not there will still be particles that are able to pass through the blanket. This is because the shear forces acting on some medium sized particles are often to great to allow them to remain attached to the larger flocs that have accumulated.\n",
        "\n",
        "The stability and quality of the floc blanket is a function of both the settling velocity of flocs and the upflow velocity through the sedimentation tank ([Su et al, 2004](http://www.sciencedirect.com/science/article/pii/S0043135403005025)). For this reason, it is important that these two aspects are controlled carefully. Studies have shown that when one of these parameters experiences fluctuations, floc blankets can fail to function as intended which could lead to poor effluent water quality ([Su et al, 2004](http://www.sciencedirect.com/science/article/pii/S0043135403005025)). In one case, a clarifier in Taiwan lost its entire floc blanket during a period of low turbidity measurements in the influent raw water ([Lin et al, 2004](https://ascelibrary.org/doi/10.1061/%28ASCE%290733-9372%282004%29130%3A12%281481%29)). Furthermore, conditions must be maintained that allow for the resuspension of agglomerated flocs into the fluidized bed, but not to a superfluous degree where flocs would be torn apart by high shear forces ([Garland et al, 2016](http://doi.org/10.1089/ees.2015.0314)).\n",
        "\n",
        "###Clay\n",
        "\n",
        "Clay was introduced into the fluoride system to investigate its usefulness as an indicator for flocculation. When fluoride flocs form with PACl, the resulting solids are clear and can only be seen when closely examining the sedimentation tube with a flashlight. It was hypothesized that by introducing clay after the flocculator, there may be some interaction between the fluoride flocs and the clay where the flocs would stick to clay particles and thereby become more visible. Furthermore, it was thought that there may be some added benefit by introducing clay, because clay particles that form by reaction with PACl tend to be much larger ([needs citation]()). Research has shown that clay can also play a part - especially in groundwater applications - in the adsorption of fluoride and other pollutants of interest ([Savenko 1999](https://link.springer.com/content/pdf/10.1023%2FA%3A1010496606751.pdf)). When paired with certain aluminum coagulation processes, Savenko says, the introduction of clay has been able to absorb up to 3.3 mg fluoride/g ([1999](https://link.springer.com/content/pdf/10.1023%2FA%3A1010496606751.pdf)).\n",
        "\n",
        "###Langmuir Isotherm\n",
        "\n",
        "Langmuir isotherms are models that are used for the adsorption process, where some chemical species of interest is attracted to the surface of a solid where the two are then joined by either a physical or chemical bond ([Foo and Hameed, 2010](https://doi.org/10.1016/j.cej.2009.09.013)). These models allow for the delineation of relationships between the pollutant of interest and the adsorbent being used, and are thus very useful in giving a visual representation of adsorption effiency based on specific experimental conditions ([Foo and Hameed, 2010](https://doi.org/10.1016/j.cej.2009.09.013)).\n",
        "\n",
        "Past fluoride teams have used an isotherm to model the relationship between the amount of fluoride absorbed (mg) per gram of PACl introduced to the system and the effluent concentration of fluoride (mg/L). In this instance, fluoride is the pollutant of interest, and PACl can be considered the adsorbent material. The most recent version of this isotherm model can be seen below in Figure 1.\n",
        "\n",
        "<center>\n",
        "  <img src=\"https://raw.githubusercontent.com/AguaClara/Fluoride-Auto/master/Spring%202019/Langmuir%20Isotherm%20Data/isotherm.png\">\n",
        "  </center>\n",
        "  \n",
        "**Figure 1:**  Langmuir isotherm model from Fluoride Auto, Spring 2019.\n",
        "\n",
        "\n",
        "The goal is to have high uptake of fluoride, because this means that a larger amount of the pollutant is being adsorbed per unit of PACl. Ideally, this would leave the effluent fluoride concentration at a value lower than the WHO standard of 1.5 mg/L for drinking water."
      ]
    },
    {
      "cell_type": "markdown",
      "metadata": {
        "id": "LuA45vR6cCGW",
        "colab_type": "text"
      },
      "source": [
        "## Previous Work"
      ]
    },
    {
      "cell_type": "markdown",
      "metadata": {
        "id": "vn8QjMw95Wga",
        "colab_type": "text"
      },
      "source": [
        "### Automated System\n",
        "The AguaClara Fluoride Automated System began in Fall 2016 after receiving an EPA Phase II grant in Spring 2016 [(Cheng et. al., 2016)](https://drive.google.com/file/d/0Bzej1vulT_XyWHZyLXdIWlk1RkE/view). The team focused on using PACl for particle removal using only a floc blanket. The team ran tests with red dye in place of fluoride so that turbidity and visual observation could be used to gauge particle removal. The team determined that the floc blanket must be at some minimum height greater than 5 cm for effective removal of red dye. In addition, a sloped bottom geometry for the base of the sedimentation tube was fabricated to prevent the settling of flocs at the bottom of the reactor and subsequent clogging. The main goal of this new bottom geometry was to remove any flat horizontal surfaces so that flocs that reached the bottom would have to recirculate instead of settling. \n",
        "\n",
        "The 2017 teams used clay in the system, but stopped using clay after observing high levels of turbidity in the effluent. Using high levels of PACl (25 mg/L), the team was able to produce an effluent with a concentration of as low as 0.05 mg/L [(Longo et. al., 2017)](https://github.com/AguaClara/Fluoride-Auto/blob/master/Spring%202017/Fluoride%20Spring%202017.pdf). Additionally, initial tests were conducted with both single and multi-reactor systems, but the single reactor system was ultimately chosen after taking large-scale cost and labor into consideration [(Longo et. al., 2017)](https://github.com/AguaClara/Fluoride-Auto/blob/master/Fall%202017/fluoride-fall-2017.pdf).\n",
        "\n",
        "The Spring 2018 team varied ran experiments in which they either changed the influent PACl concentration or the influent fluoride concentration, in order to collect data for the developing Langmuir Isotherm, an adsorption model that was thought to describe the interaction between polyaluminum chloride and particles in the water such as red dye or fluoride ions [(Akpan et. al., 2018)](https://github.com/AguaClara/Fluoride-Auto/blob/master/Spring%202018/FluorideReportSp18.md). Skepticism over the accuracy of the probe led to somewhat inconclusive data.\n",
        "\n",
        "In Summer 2018, the team concentrated on continuing to run experiments to gain more data to plot against the Langmuir Isotherm [(Pang et. al., 2018)](https://github.com/AguaClara/Fluoride-Auto/blob/master/Summer%202018/Fluoride_Summer2018.md). The team plotted uptake, or the mass of fluoride removed per the mass of influent PACl, against the effluent fluoride concentration and concluded that the PACl was effective in removing fluoride from the influent water, even if an optimal dosage of PACl had not yet been determined.\n",
        "\n",
        "The Fall 2018 team experienced the significant obstacle of gel buildup in the reactor [(Mehrabyan et. al., 2018)](https://github.com/AguaClara/Fluoride-Auto/blob/master/Fall%202018/Automated%20System/Fall_2018_Report.md). Functioning floc blankets should be a fluidized bed of particles that are constantly recirculating, while gel is a mass of flocs that tend to adhere to the side of the reactor and do not recirculate. The reoccurrence of gel in most of the experiments caused early failure due to blockage of the floc weir entrance and the ensuing escape of flocs through the effluent tubing.\n",
        "\n",
        "The Spring 2019 team continued the task of testing different ratios of PACl to fluoride and plotting the data of previous semesters against the Langmuir Isotherm [(Sausele et. al., 2019)](https://github.com/AguaClara/Fluoride-Auto/blob/master/Spring%202019/Fluoride-Auto-Spring-2019-Report.md). The data from Spring 2018 to Spring 2019 is shown in the Results and Analysis section. The Spring 2019 team also transitioned from using MathCad for determining experimental flow rates to using Python, which is currently being used for experimental calculations as well as graphing and data analysis.\n",
        "\n",
        "Additionally, the Spring 2019 team ran tests to see if the fluoride probe could detect fluoride in the form of flocs or not. High-turbidity samples of effluent that contained flocs were measured with the fluoride probe. After filtering the samples through mesh, their concentrations were measured once more. The team found significant percent increases in measured fluoride concentration after filtering, which led to the conclusion that the mesh helped break up the flocs into a form that the probe was able to detect."
      ]
    },
    {
      "cell_type": "markdown",
      "metadata": {
        "id": "m2BcoJ085Ywr",
        "colab_type": "text"
      },
      "source": [
        "### Gravity System\n",
        "\n",
        "\n",
        "The gravity powered apparatus started developing in the Fall 2017 and Spring 2018 team using the concept of constant head tanks as shown in Figure 2  [(Akpan et al., 2017)](https://github.com/AguaClara/Fluoride-Auto/blob/master/FluorideReportSp18.md). The PACl and fluoride constant head tanks have float valves that are attached to allow for a constant volumetric flow rate to flow through the system, which then can be calculated [(Pang et al., 2018)](https://github.com/AguaClara/Fluoride_Gravity/blob/master/Fall%202018/Fluoride_Grav_Fall2018_Report.md).\n",
        "\n",
        "<center>\n",
        "<img src = \"https://raw.githubusercontent.com/AguaClara/Fluoride_Gravity/master/Spring%202019/Schematic.PNG\" height = 500 width = 600 >\n",
        "  \n",
        "</center>\n",
        "\n",
        "**Figure 2:**  A diagram of the Spring 2018 gravity-powered system with height differentials driving the system.\n",
        "\n",
        "The Summer 2018 team improved the system by making the gravitational energy easily adjustable with sliders on the PACl stock tank, PACl constant head tank, and effluent pipe, which allowed for easier control and measurement for flow through the system (Figure 3). \n",
        "\n",
        "<center>\n",
        "  \n",
        "<img src = \"https://raw.githubusercontent.com/AguaClara/Fluoride_Gravity/master/Spring%202019/Diagram.PNG\" height = 600 width = 400>\n",
        "  \n",
        "</center>\n",
        "\n",
        "**Figure 3:** The Summer 2018's updated set up with the adjustable sliders for the effluent and coagulant tanks.\n",
        "\n",
        "In Fall 2018, the Fluoride Gravity team was made officially and prioritized making a way to easily measure the coagulant flow rate free falling into the fluoride system without any head loss. The Fall 2018 team added an IV drip chamber for the PACl system with microtubing, but headloss still occurred [(Pang et al., 2018)](https://github.com/AguaClara/Fluoride_Gravity/blob/master/Fall%202018/Fluoride_Grav_Fall2018_Report.md).\n",
        "\n",
        "The Spring 2019 team created several different ways to introduce PACl into the system without any head loss and to effectively mix the PACl and fluoride. The team tested the gravity powered system with red dye, which behaves similarly to fluoride, and PACl by directly adding PACl into the fluoride stock tank, using a T-junction, a clear horizontal T-junction, and a vertical clear T-junction. The Spring 2019 team successfully determined the vertical clear T-junction modification was the optimal method of introducing PACl into the system by having consistent flocculation and effective mixing [(Huang et al., 2019)](https://github.com/AguaClara/Fluoride_Gravity/blob/master/Spring%202019/Spring%202019%20Report.md). The updated Spring 2019 schematic is shown in Figure 4.\n",
        "<center>\n",
        "\n",
        "<img src = \"https://raw.githubusercontent.com/AguaClara/Fluoride_Gravity/master/Spring%202019/current%20drawing.png\" height = 550 width = 550> \n",
        " \n",
        "</center>\n",
        "\n",
        "**Figure 4:** The updated Spring 2019 set up for the Fluoride gravity apparatus.\n",
        "\n",
        "\n",
        "The goal of the Summer 2019 Fluoride team for the gravity system was to run tests with fluoride in the gravity system and obtain data about the efficiency of the system. "
      ]
    },
    {
      "cell_type": "markdown",
      "metadata": {
        "id": "a7POfNmj2Gr7",
        "colab_type": "text"
      },
      "source": [
        "##Methods\n",
        "\n",
        "### Expected Floc Weir Behavior\n",
        "\n",
        "In the previous experiments run by the Fluoride Automated System, the waste line valve was kept open and the waste line pump was kept running. However, the Summer 2019 team closed the waste line valve for both the Fluoride Automated and Gravity systems' experiments to further optimize the system by allowing for accumulation of flocs to form in the floc weir and be emptied out at once when the weir is full. Also, the flocs are expected to fall into the floc weir even if the waste line valve is closed due to the angle of the plate settler and the displacement of water in the floc weir and the heavier flocs. Therefore, throughout all of the Fluoride Summer 2019 team's experiments, the waste line valve is remained closed. Since the Automated System's and the Gravity System's sedimentation tubes are designed differently based on the placement of the floc weirs as seen in Figure 5 and Figure 6, the Summer 2019 team tested both sedimentation tubes on the Automated System with the same dosages of red dye and PACl to observe which sedimentation tube's floc weir allowed for the accumulation of flocs with the waste pump off and the waste valve closed.\n",
        "\n",
        "\n",
        "### Determination of the Bottom Geometry in the Sedimentation Tube\n",
        "\n",
        "In the Fluoride Gravity Spring 2019 team, the addition of a bottom geometry obtained from the [High Rate Sedimentation Team](https://github.com/AguaClara/HRS-Bot-Geo) prevented further gelling in the sedimentation tube and allowed for a fluidized bed to form.\n",
        "\n",
        "<center>\n",
        "  \n",
        "<img src = \"https://raw.githubusercontent.com/AguaClara/Fluoride_Gravity/master/Spring%202019/Botgeo%20Drawing.jpg\" height = 400 width = 500>\n",
        "\n",
        "</center>\n",
        "\n",
        "**Figure 5:** 2D scaled drawing of the bottom geometry that was added to the Fluoride Gravity sedimentation tube.\n",
        "\n",
        "On the other hand, the Fluoride Auto Spring 2019 team received a different bottom geometry obtained from [High Rate Sedimentation Team](https://github.com/AguaClara/HRS-Bot-Geo) for their sedimentation team as seen in Figure 6.\n",
        "\n",
        "<center>\n",
        "  <img src=\"https://raw.githubusercontent.com/AguaClara/Fluoride-Auto/master/Spring%202019/Images/BotGeo%20Drawing.jpg\" height = 400 width = 500>\n",
        "  </center>\n",
        "\n",
        "**Figure 6:** 2D scaled drawing of the bottom geometry that was added to the Fluoride Auto Spring 2019 sedimentation tube.\n",
        "\n",
        "To compare the efficiency of the two bottom geometries, the Fluoride Summer 2019 team conducted two experiments with the same dosages of red dye and coagulant as well as using the same sedimentation tube to observe which bottom geometry should be used for the sedimentation tube. The experiments are tested on the Fluoride Automated system.\n",
        "\n",
        "### Testing Consistent Flocculation in the Fluoride Gravity System\n",
        "\n",
        "The Fluoride Gravity Spring 2019 team's vertical T-junction system was last implemented in the Gravity System and succeeded to have flocculation in the flocculator, but did not fully test if flocculation was consistent to create a fluidized bed in the sedimentation tube. Therefore, the Summer 2019 team tested with red dye and PACl if consistent flocculation occurs and if a fluidized bed builds up to the floc weir opening. If consistent flocculation occurs and a fluidized bed forms, the Fluoride Gravity System can start testing with fluoride to obtain quantitative results and to further optimize the system."
      ]
    },
    {
      "cell_type": "markdown",
      "metadata": {
        "id": "V2HNrGxyWON9",
        "colab_type": "text"
      },
      "source": [
        "## Experimental Apparatus\n",
        "\n",
        "###Schematic\n",
        "<center>\n",
        "  <img src=\"https://raw.githubusercontent.com/AguaClara/Fluoride-Auto/master/Summer%202019/Images/Schematic.png\">\n",
        "  </center>\n",
        "  \n",
        "**Figure 7:**  A schematic showing the flow of water through the Automated lab bench."
      ]
    },
    {
      "cell_type": "markdown",
      "metadata": {
        "id": "ddVS1gO_WTFu",
        "colab_type": "text"
      },
      "source": [
        "###Bench Setup\n",
        "\n",
        "<center>\n",
        "<img src=\" https://raw.githubusercontent.com/AguaClara/Fluoride-Auto/master/Summer%202019/Images/Lab%20Bench.png\">\n",
        " </center>\n",
        " \n",
        "**Figure 8:**  The Summer 2019 Automated lab bench.\n"
      ]
    },
    {
      "cell_type": "markdown",
      "metadata": {
        "id": "yUbzv-iK1aSP",
        "colab_type": "text"
      },
      "source": [
        "### Sedimentation Tube\n",
        "<center>\n",
        " <img src=\"https://raw.githubusercontent.com/AguaClara/Fluoride-Auto/master/Summer%202019/Images/Sedimentation%20Tube.png\">\n",
        " </center>\n",
        " \n",
        "**Figure 9:**  The Summer 2019 sedimentation tube.\n",
        " \n",
        " Figure 9 shows the specifications of the new sedimentation tube that was created. The angle of the plate settler was increased from 60° to 70°, with respect to the horizontal axis. This change was made because it was observed that with the plate settler at 60°, fluoride flocs would not slide down the tube. Instead, they would create a gel substance that would stick to the plate settler area and thus would never be deposited into the floc weir."
      ]
    },
    {
      "cell_type": "markdown",
      "metadata": {
        "id": "RjaKjtASWbaC",
        "colab_type": "text"
      },
      "source": [
        "### Process Flow Through Reactor\n",
        " 1. Water flows from the tap to the Flow Accumulator, then continues on through the main tubing.\n",
        " 2. Fluoride solution flows from the F- Stock tank to the main tubing, where it becomes diluted by the stream of water.\n",
        " 3. PACl flows from the PACl Stock tank to main tubing, where it is added to the fluoride and tap water.\n",
        " 4. The mixture travels through the Flocculator.\n",
        " 5. The mixture flows into the Sedimentation Tube.\n",
        " 6. The floc blanket grows to the height of the Floc Weir, and the overflow of flocs exits the Sedimentation Tube through the Floc Weir.\n",
        " 7.  Flocs that do not initially exit through the Floc Weir fall onto the Plate Settlers and slide down into the Floc Weir.\n",
        " 8.  The effluent stream exits the top of the Sedimentation Tube.\n",
        " 9.  The Turbidimeter measures the turbidity of the effluent stream.\n",
        " 10. The Mesh Filter breaks up fluoride that is in the form of flocs.\n",
        " 11. The Fluoride Probe measures the effluent fluoride concentration.\n",
        " 12. The effluent stream flows into the sink."
      ]
    },
    {
      "cell_type": "markdown",
      "metadata": {
        "id": "ToB7a10c8Ubg",
        "colab_type": "text"
      },
      "source": [
        "\n",
        " ### Materials\n",
        " * One 600 RPM pump and three 100 RPM pumps\n",
        " * Transparent 2.54 cm (1\") PVC piping\n",
        " * Flexible and hard 0.635 cm (1/4\") tubing and Microbore tubing\n",
        " * One Turbidimeter\n",
        " * One Fluoride Ion Selective Electrode (ISE) Probe (VWR International, Catalog No. BK511141 (EA))\n",
        "  * Access the general manual [here](https://github.com/AguaClara/Fluoride-Auto/blob/master/Spring%202019/Resources/Fluoride%20Probe%20Manual.pdf).\n",
        "  * Access the comprehensive manual [here](https://github.com/AguaClara/Fluoride-Auto/blob/master/Spring%202019/Resources/Fluoride%20Selective%20Electrode%20Comprehensive%20Manual.pdf).\n",
        " * 1\" and 3/4\" clear Polyvinyl Chloride (PVC)\n",
        " * One Bottom Geometry fabricated by the High Rate Sedimentation Bottom Geometry team\n",
        " * One 47 mm In-Line Filter Holder (Pall Corporation)\n",
        " * 1000 mg/L Polyaluminum Chloride (PACl) Stock Solution\n",
        " * 1000 mg/L Fluoride Stock Solution\n",
        " * 1000 mg/L Clay Superstock Solution and 100 mg/L Stock Solution\n",
        " * Connectors and buckets for stock tanks\n",
        " * Two bottles for fluoride stock and flow accumulator\n",
        " * Three stir plates with stir bars for the stock solutions"
      ]
    },
    {
      "cell_type": "markdown",
      "metadata": {
        "id": "7T8RE0_rWixT",
        "colab_type": "text"
      },
      "source": [
        "### Apparatus Changes\n",
        " * **Addition of the Flow Accumulator in the Automated System:** Early on in the summer, the team observed pulsing in the influent water tube, which continued in the flocculator and sedimentation tube. Thus, the team implemented the Flow Accumulator, which is a bottle with both an influent and effluent opening. The bottle is filled with water just enough to cover these openings, then capped tightly in order to allow the air pressure inside the bottle to facilitate the flow of water out of the bottle, free of pulsations from the pump.\n",
        " * **Increased Angle of the Sedimentation Tube:** In previous semesters, the team used a sedimentation tube with a bend that was 60° from the horizontal. In the initial tests that the Summer 2019 team ran, flocs seemed to be accumulating above the floc weir, on the plate settlers. The team then increased the angle of the bend to 70° in an attempt to allow flocs to slide down the plate settlers more easily and thus prevent the build up of flocs above the floc weir.\n",
        " * **Uniform Reactor for Automated and Gravity System:** In the Spring 2019 semester, the Automated and Gravity systems used sedimentation tubes that were uniform in angle (the bend was 60° from the horizontal) and lengths. However, the systems differed in their placement of the floc weir. While the Gravity system floc weir was above the bend of the tube, like the one shown above in Figure 9, the Automated system floc weir was on the vertical part of the sedimentation tube, as shown below. The Automated team also connected a 1 RPM waste pump to the floc weir to remove flocs. The Summer 2019 decided to use two sedimentation tubes with the same specifications in order to be able to compare experiments done on both systems. Thus, the team fabricated two sedimentation tubes with a bend that was 70° from the horizontal and a floc weir above the bend instead of on the vertical part of the sedimentation tube. The team also decided to not include the waste pump in the system, as gravity proved to be sufficient for flocs to exit the weir. Finally, the Spring 2019 Automated and Gravity teams used different bottom geometries, but after initial testing, a working bottom geometry was determined and implemented in both systems. See the \"Determination of Bottom Geometry\" section for more information.\n",
        " \n",
        " <center>\n",
        " <img src=\"https://raw.githubusercontent.com/AguaClara/Fluoride-Auto/master/Spring%202019/Images/Sed%20Tube%20Measurements.JPG\">\n",
        "  </center>\n",
        "  \n",
        "**Figure 10:**  The sedimentation tube from the Spring 2019 Automated team, with the floc weir on the vertical portion of the tube.\n",
        " "
      ]
    },
    {
      "cell_type": "markdown",
      "metadata": {
        "id": "14QXCacy8axM",
        "colab_type": "text"
      },
      "source": [
        "## Procedure"
      ]
    },
    {
      "cell_type": "markdown",
      "metadata": {
        "id": "GZyt65AAIDwZ",
        "colab_type": "text"
      },
      "source": [
        "### Testing the Limits of the Fluoride Probe\n",
        "Effluent water from a fluoride experiment may contain fluoride ions that were unable to flocculate, but also fluoride in the form of flocs, which are complexes of aluminum-hydroxyl and fluoride. Ion selective electrodes are designed to measure the concentration of ions in solution; thus, flocs cannot always be detected by the probe. The Spring 2019 team had collected data that showed an increase in the fluoride concentration reading after filtering through mesh, so the Summer 2019 repeated the same type of tests by taking samples of fluoride from the flocculator and measuring their concentrations before and after filtering. However, these new tests proved to be inconclusive, as many of the samples showed an insignificant increase in the concentration reading following filtration. The team is still unsure of why the results are so different from those in Spring 2019; one possible reason is that the probe used in Spring 2019 was nearly at the end of its life cycle and may not have been as accurate as it could have been, whereas the Summer 2019 team purchased a new probe at the beginning of June.\n",
        "<center>\n",
        "  <img src=\"https://raw.githubusercontent.com/AguaClara/Fluoride-Auto/master/Summer%202019/Images/Filtered%20Samples.png\">\n",
        "  </center>\n",
        "  \n",
        "**Figure 11:**  Data collected from before and after filtering floc-filled samples through mesh.\n",
        " \n",
        "A study by Sharma et. al. shows the dependence on the flocculation of fluoride or decomplexing of flocs on the pH of a system. The study used a pH of 6.5-8.5 for \"minimum solubility of aluminium\" ([Sharma et.al](https://www.ijarse.com/images/fullpdf/1441435538_393P.pdf)). Since pH is an integral aspect of flocculation that had not been previously discussed in depth in other semesters of research on fluoride removal, the Summer 2019 sought more information on it. The comprehensive manual provided by the probe manufacturer suggested using Total Ionic Strength Adjustment Buffer (TISAB) I or III as a way to create the correct pH in the solution at which fluoro-aluminum complexes would be able to break apart.\n",
        "\n",
        "Differing sources disagreed over the use of the different buffer solutions (TISAB !, II, and III). Since the AguaClara lab had access to TISAB II, the fluoride team tried measuring several floc-filled samples before and after adding TISAB II in a 1:1 ratio to the existing solutions. However, these tests also proved to be inconclusive, as the results continued to vary (many of the sample concentration readings went down after adding TISAB, even when considering the added volume from the TISAB).\n",
        "\n",
        "As a result of the inconsistent outcomes of these experiments, the team decided not to take effluent samples after the mesh filter in the apparatus. Instead, a tee-junction with a cap was added to the tubing before the turbidimeter (and thus also before the mesh filter) and the cap was removed every time an effluent sample was being collected. The team decided that this procedure would be best in order to also replicate the data collection procedures of previous semesters, which did not include mesh filters."
      ]
    },
    {
      "cell_type": "markdown",
      "metadata": {
        "id": "zB_2Q-qM39qE",
        "colab_type": "text"
      },
      "source": [
        "### Defining System Failure\n",
        "For the majority of the summer experiments that were run so far, the floc blanket built up past the floc weir and sometimes gelled on the plate settlers before the floc weir was completely filled. The team defined this state of the system as failure, because the floc weir was not adequately removing flocs from the sedimentation tube.\n",
        "\n",
        "In addition, gelling was a phenomenon that has occurred sporadically in both red dye and fluoride experiments in previous and current semesters. An essential characteristic of a properly working floc blanket is continuous recirculation of flocs. Gels form when a large accumulation of flocs builds up so much that the flocs within it are unable to recirculate or move, and other separate flocs must take a path around it rather than through it. The Summer 2019 team, like the Fall 2018 team, defined any buildup of gel, whether in the bottom of the reactor or on the plate settlers, to signal failure in the system.\n",
        "\n",
        "The importance of defining how a system fails is key to this research. Previous semesters had removed ionic fluoride, which was evident through the high uptake values from the data. However, the nature of the experiments were very different from those run by the Summer 2019 team. The previous experiments would occur for several hours and sometimes overnight, while in contrast the Summer 2019 experiments are run and monitored closely over a period of one to two hours. Previous teams did not focus on checking if flocs were actually exiting through the floc weir either. Thus, it is possible that previous semesters were not removing flocs and were instead sending flocs through the effluent that were not detectable by the fluoride probe."
      ]
    },
    {
      "cell_type": "markdown",
      "metadata": {
        "id": "IM5UQlV51WfH",
        "colab_type": "text"
      },
      "source": [
        "### Introducing Clay into the System\n",
        "A few weeks into the summer semester, the team began to think of a different approach of removing fluoride. As aforementioned, fluoride in both its ionic and floc form is nearly invisible and in the lab requires a flashlight held against the sedimentation tube in order to view the floc blanket. Existing AguaClara plants currently use turbidity as an indicator of particle removal, however, the fluoride flocs would present a challenge to plant operators because of their lack of turbidity. \n",
        "\n",
        "The team decided to try adding clay into the system, with the goal of increasing the visibility of the fluoride flocs to both the turbidimeter and to the naked eye. Additionally, since clay particles are more massive than fluoride particles, the team hypothesized that the addition of clay would increase the mass of the flocs and thus allow the flocs to fall into the floc weir more easily rather than continuing to build up past the floc weir as they had been in experiments conducted before the addition of clay. The clay pump was added after the flocculator, so that the fluoride would have sufficient time to bind with the PACl in the flocculator and not have to compete with the clay particles. Because of the placement of the pump, the team set a timer for 5 minutes after starting each experiment before turning on the clay pump, to give the fluoride and PACl time to make it through the flocculator before adding clay. This time was an approximation because the team was unable to see fluoride in the flocculator.\n",
        "\n",
        "The addition of clay to the fluoride system was not a completely new change to the AguaClara fluoride removal research. The Spring 2016 team added clay to their system but decided that it was not a necessary component because it caused the effluent turbidity to rise and did not aid in the removal of fluoride, by their standards. However, research has changed drastically since Spring 2016 that have made clay an appealing re-addition to the system. The main factor was a new focus on collecting more accurate readings of effluent fluoride concentrations. The effluent water may contain fluoride ions that remained unflocculated throughout the flocculator and sedimentation tube, which are detectable by the fluoride probe. However, it may also contain flocs that were not captured by the floc weir or floc blanket, which are complexes of aluminum hydroxyl and fluoride that are not always detectable using an ion selective electrode. \n",
        "\n",
        "The previous section details the attempts to understand the fluoride probe and ensure that the effluent fluoride is in a form that the probe can sense. However, the point of adding the clay was to try a different way of gauging success, by tracking turbidity rather than effluent fluoride concentration. The team observed an increase in turbidity while cleaning out the system and sending a large number of flocs through the effluent, but a significant increase in turbidity was not seen during regular experiments even when flocs were seen exiting through the effluent. At this point in the semester, the team is still unsure of the effect that the flocs have on turbidity. In comparison, the previous fluoride teams observed a much more definite and concrete increase in effluent turbidity when adding clay to the system. Thus, the Summer 2019 hypothesis was that the clay would bind to the fluoro-aluminum complexes and make the nearly clear flocs more turbid, which could then be used as an indicator for failure or success. An increase in turbidity could mean that fluoride was also escaping and would thus signal failure."
      ]
    },
    {
      "cell_type": "markdown",
      "metadata": {
        "id": "6eGgb5N4GXfj",
        "colab_type": "text"
      },
      "source": [
        "### Determining an Optimal Upflow Velocity\n",
        "Existing AguaClara plants use an upflow velocity of 1 mm/s for the sedimentation process. However, previous fluoride teams used an upflow velocity of 1.5 mm/s to graph points on the Langmuir Isotherm to prevent gelling in the tube. One of the goals from the Spring 2019 Automated team was to figure out if there was possibly an optimal upflow velocity between 1 mm/s and 1.5 mm/s that was low enough to ensure that the floc blanket could form properly but high enough to prevent gel from building up in the sedimentation tube. \n",
        "\n",
        "The Summer 2019 team started its experiments with an upflow velocity of 1 mm/s in order to mimic the existing AguaClara plants. However, after observing the flocs gelling on the plate settlers in many of the experiments, the team decided to try a higher upflow velocity to see if it would change the outcome of the experiment. After adding clay, the team ran qualitative experiments to see how the floc blanket would behave  if the upflow velocity was higher than 1 mm/s. The team ran several tests at 1.5 mm/s and one experiment at 1.2 mm/s, both with 5 mg/L of fluoride, 10 mg/L of PACl, and 4 mg/L of clay."
      ]
    },
    {
      "cell_type": "markdown",
      "metadata": {
        "id": "PY-pPGcoh_Ul",
        "colab_type": "text"
      },
      "source": [
        "### Increasing the Size of the Floc Weir\n",
        "The team also wanted to find a different way to increase the number of flocs captured by the floc weir without adding clay to the system. One hypothesis was that the size of the floc weir entrance was too small for large groups of flocs to pass through. The fluoride sedimentation tubes since Fall 2016 all used 1\" inner diameter PVC for the sedimentation tube and plate settler and 3/4\" inner diameter PVC for the floc weir. However, the choice to use a thinner tube for the floc weir was originally an arbitrary fabrication decision, so the current fluoride team decided to see how a larger weir would affect the removal of flocs.\n",
        "\n",
        "The team fabricated a new sedimentation tube using the same tubing lengths as the previous sedimentation tubes. However, instead of welding the floc weir, the team used PVC cement to connect the top and bottom of the sedimentation tube to a tee-junction, and attached another length of 1\" inner diameter PVC tubing to the middle of the tee-junction. This sedimentation tube was tested with fluoride and without clay.\n",
        "<center>\n",
        "  <img src=\"https://raw.githubusercontent.com/AguaClara/Fluoride-Auto/master/Summer%202019/Images/Large%20Floc%20Weir.png\">\n",
        "  </center>\n",
        "  \n",
        "**Figure 12:**  The sedimentation tube with a 1\" inner diameter floc weir."
      ]
    },
    {
      "cell_type": "markdown",
      "metadata": {
        "id": "mEn3SsReWee6",
        "colab_type": "text"
      },
      "source": [
        "### Experimental Calculations\n",
        "The following equation, from the Fall 2017 High Rate Sedimentation team report [(Galantino et. al)](https://github.com/AguaClara/high_rate_sedimentation/blob/master/Reports/HRS%202017%20Fall%20Final%20Report.pdf), determines the capture velocity of a system given the inner diameter of the sedimentation tube (S), the upflow velocity (V<sub>a</sub>), and the length of the plate settler after the floc weir (L). \n",
        "<center>\n",
        "\\[V_{c}=\\frac{SV_{a}sina}{Lsinacosa+S}\\]\n",
        "</center>\n",
        "Using this equation, the Summer 2019 team was able to use the system parameters of a 1\"-wide tube, an upflow velocity of 1 mm/s, and a length L of 23.5 cm to determine the capture velocity of the system to be 0.236 mm/s. This capture velocity may continue to change throughout the summer as the team is still in the process of figuring out an upflow velocity to use between 1 and 1.5 mm/s. Additionally, the team was discussing possibly lengthening the plate settler portion at the top of the sedimentation tube to see if it would decrease the amount of fluoride escaping through the effluent; this type of adjustment would also result in a change in the system's capture velocity."
      ]
    },
    {
      "cell_type": "markdown",
      "metadata": {
        "id": "_GN0525gV7wm",
        "colab_type": "text"
      },
      "source": [
        "## Results and Analysis"
      ]
    },
    {
      "cell_type": "markdown",
      "metadata": {
        "id": "vsIBMlzoWB6X",
        "colab_type": "text"
      },
      "source": [
        "### Determination of the Sedimentation Tube\n",
        "\n",
        "The Summer 2019 team tested Fluoride Auto Spring 2019's sedimentation tube with the floc weir on the left side before the plate settler using red dye and PACl and observed the red dye flocs passing the floc weir and building up on the plate settler rather than going into the floc weir (Figure X). The flocs on the plate settler became a gel at the bend since the flocs did not fall and recirculate. When the team turned on the waste pump and opened the waste valve, the flocs started entering the floc weir. Therefore, the sedimentation tube with the floc weir on the vertical portion of the tube did not collect flocs in the floc weir when the valve is closed and needed a sink to pull flocs through the floc weir.\n",
        "\n",
        "<center>\n",
        "  \n",
        "<img src = \"https://raw.githubusercontent.com/AguaClara/Fluoride-Auto/master/Summer%202019/Images/Auto%20Weir%20Not%20Working%201.jpg\" height = 420 width = 260>\n",
        "  \n",
        "</center>\n",
        "\n",
        "**Figure 13:**  Gel building up on the plate settler of the Fluoride Auto Spring 2019's sedimentation tube when the waste valve was closed.\n",
        "\n",
        "The Summer 2019 team then tested Fluoride Gravity Spring 2019's sedimentation tube with the floc weir on the plate settler using the same dosages of red dye and PACl as the previous experiment and observed the flocs were forming a gel on the plate settler and not reaching the floc weir (Figure 13).\n",
        "\n",
        "<center>\n",
        "<img src = \"https://raw.githubusercontent.com/AguaClara/Fluoride-Auto/master/Summer%202019/Images/Gel%20Grav%201.jpg\" height =420 width = 260>\n",
        "</center>\n",
        "\n",
        "**Figure 14**: A gel forming on the plate settler of Fluoride Gravity Spring 2019's sedimentation tube when the waste valve was closed.\n",
        "\n",
        "Therefore, to prevent the formation of a gel on the plate settler, the Summer 2019 team increased the angle of the plate settler from 60 degrees to 70 degrees and observed the flocs enter the floc weir consistently without gel formation on the plate settler when using the sedimentation tube with the floc weir on the plate settler (Figure 14). As a result, the optimal sedimentation tube design was determined to be the sedimentation tube with the floc weir on the plate settler. The Summer 2019 team fabricated another 70 degree sedimentation tube to run tests on both the Gravity apparatus and Automated apparatus. \n",
        "\n",
        "<center>\n",
        "  \n",
        "<img src = \"https://raw.githubusercontent.com/AguaClara/Fluoride-Auto/master/Summer%202019/Images/Increased%20Angle%20Success.jpg\" height = 420 width = 260>\n",
        "  \n",
        "</center>\n",
        "\n",
        "**Figure 15**: The flocs accumulating in the floc weir and no gel formation on the plate settler with Fluoride Gravity Spring 2019's sedimentation tube."
      ]
    },
    {
      "cell_type": "markdown",
      "metadata": {
        "id": "83en9QYOWGZh",
        "colab_type": "text"
      },
      "source": [
        "### Changing the Plate Settler\n",
        " The biggest issue with the 60° sedimentation tube was that gel formed consistently on the plate settler. It is hypothesized that this occurred because fluoride flocs tend to be more \"sticky\" by nature, and thus when accummulating on the settler, they would collect instead of sliding down into the floc blanket. This issue was averted when increasing the angle of the plate settler to 70° because the slope was steep enough where instead of collecting, the flocs would be forced to slide down into the floc blanket. Moreover, flocs were observed sliding down the settler at 70° for both the auto fluoride system and the gravity fluoride system."
      ]
    },
    {
      "cell_type": "markdown",
      "metadata": {
        "id": "pXnUvFmpWI3_",
        "colab_type": "text"
      },
      "source": [
        "### Determination of the Bottom Geometry\n",
        "By testing the bottom geometry from the Spring 2019 Fluoride Gravity apparatus, no gel was forming in the sedimentation tube and was forming a fluidized bed. However, when testing the bottom geometry from the Spring 2019 Fluoride Auto apparatus, gel was forming at the bottom of the sedimentation tube (Figure 16). Therefore, the optimal bottom geometry for the sedimentation tube for fluoride removal is the bottom geometry modeled in Figure 5.\n",
        "\n",
        "<center>\n",
        "  <img src=\"https://raw.githubusercontent.com/AguaClara/Fluoride-Auto/master/Spring%202019/Images/BotGeo%20Drawing.jpg\">\n",
        "  </center>\n",
        "  \n",
        "**Figure 16:** The bottom geometry used by the Spring 2019 Automated system that the Summer 2019 team did not end up using."
      ]
    },
    {
      "cell_type": "markdown",
      "metadata": {
        "id": "xWjdg5awWKY_",
        "colab_type": "text"
      },
      "source": [
        "### Consistent Flocculation in the Fluoride Gravity System\n",
        "\n",
        "The team tested the Fluoride Gravity system with red dye and PACl and observed consistent flocculation and a fluidized bed formation throughout the sedimentation tube. Therefore, the team started testing fluoride with the gravity system. The gravity system has been flocculating well with fluoride and PACl in the system, forming a fluidized bed, and having the flocs entering the floc weir (Figure 17). \n",
        "<center>\n",
        "<img src = \"https://github.com/AguaClara/Fluoride-Auto/blob/master/Summer%202019/Images/grav%20increased%20angle%20success.gif?raw=true\">\n",
        "                                                                                                                                       \n",
        "\n",
        "  </center>\n",
        "\n",
        "**Figure 17:** The fluoride flocs built a fluidized bed up to the floc weir and accumulated in the floc weir.\n",
        "\n",
        "However, for one of the red dye experiments, the system stopped flocculating at one point and started forming a gel. Further experiments need to be done to test the reason for the sudden stop in flocculation during that experiment. \n",
        "\n",
        "\n",
        "\n"
      ]
    },
    {
      "cell_type": "markdown",
      "metadata": {
        "id": "_Nn9zXKc-Fjq",
        "colab_type": "text"
      },
      "source": [
        "###Fitting the Experimental Data to the Isotherm\n",
        "The Summer 2018, Fall 2018, and Spring 2019 teams ran experiments with different influent ratios of PACl to fluoride, and the data was plotted by the Spring 2019 team. The Summer 2019 team ran the experiments in the following [document](https://docs.google.com/document/d/1892_u8ZQFAalcHQAYuL7N48HOVAAVtQmxul6kjME7j8/edit?usp=sharing) to see if the new data would match the trends of the existing data. However, the Summer 2019 data points all appeared much lower than both the best-fit line from previous semesters and the theoretical Langmuir Isotherm. As shown in the graph below, both the experiments run with clay and without clay appear lower than the data points provided from previous semesters, as well as lower than the best-fit line for previous semesters and the Langmuir Isotherm. This result indicates that uptake of the experiments run by the Summer 2019 team so far has been significantly lower than that of previous semesters.\n",
        "\n",
        "<center>\n",
        "  <img src=\"https://raw.githubusercontent.com/AguaClara/Fluoride-Auto/master/Summer%202019/Images/Cumulative%20Graph.png\">\n",
        "</center>\n",
        "\n",
        "**Figure 18:** The data from the past three semesters and the current team plotted against the theoretical Langmuir Isotherm.\n",
        "  \n",
        "The team discussed possible reasons for the differences between the data of the current semester and previous semesters. The main change in the system was the increased angle of the sedimentation tube, which may have somehow decreased the uptake from previous semesters. This hypothesis would make sense considering that the team saw fluoride flocs leaving the sedimentation tube through the effluent; however, it is inconsistent with the hypothesis that the probe cannot detect fluoride in floc form. The team still has not reached a conclusion for why the Summer 2019 points are so consistently dissimilar to the points from the previous semesters.\n",
        "\n",
        "Since clay was a new addition to the system, the team plotted the experiments with and without clay in different colors to see if there was any correlation between uptake and the presence or absence of clay. So far, there are not enough data points to determine a correlation, so more experiments must be run both with and without clay before a conclusion can be made.\n",
        "<center>\n",
        "  <img src=\"https://raw.githubusercontent.com/AguaClara/Fluoride-Auto/master/Summer%202019/Images/Summer%202019%20Graph.png\">\n",
        "  </center>\n",
        "  \n",
        "**Figure 19:** The data from the Summer 2019 semester plotted with the clay experiments distinguished from the non-clay experiments.\n",
        "  \n",
        "  Finally, after coming to a consensus on the definition of failure, the team plotted a graph of the successful experiments and distinguished the gravity system from the automated system. The experiments that were determined to be failures were ones where the floc blanket and occasionally gel built up on the plate settlers. For those experiments, the samples were taken when the accumulation of flocs above the weir had already occurred (i.e. after failure). The successful experiments were ones where the floc blanket exited from the weir and did not build up above the height of the weir. The samples were taken once the floc weir was full or nearly full of flocs.\n",
        "  <center>\n",
        "  <img src=\"https://raw.githubusercontent.com/AguaClara/Fluoride-Auto/master/Summer%202019/Images/Working%20Graphs.png\">\n",
        "  </center>\n",
        "  \n",
        "**Figure 20:** The data from the successful experiments from the Summer 2019 semester plotted with the Automated system experiments distinguished from the Gravity system experiments.\n",
        "  \n",
        "  <center>\n",
        "  <img src=\"https://github.com/AguaClara/Fluoride-Auto/blob/master/Summer%202019/Images/Working%20Floc%20Weir.gif?raw=true\">\n",
        "  </center>\n",
        "  \n",
        "**Figure 21:**  A successful experiment, with the flocs exiting through the floc weir instead of building up on top of the plate settlers.\n",
        "  \n",
        "Again, the team decided that more experiments should be run and plotted before a reasonable model for PACl dosing can be developed, and before a conclusion on the efficiency of the Automated system versus the Gravity system can be made.\n",
        "  "
      ]
    },
    {
      "cell_type": "markdown",
      "metadata": {
        "id": "8M8gIPfeNQsz",
        "colab_type": "text"
      },
      "source": [
        "### Keeping an Upflow Velocity of 1 mm/s\n",
        "The qualitative tests that were run at upflow velocities that were higher than 1 mm/s resulted in a sparse floc blanket forming in the vertical portion of the sedimentation tube and flocs exiting out the effluent tube with the stream of water with very little recirculation or sliding down the plate settler. The team speculated that the reason for the difference in the results between the Summer 2019 semester and the previous semesters was the new sedimentation tube with a steeper angle. The team concluded that an upflow velocity of 1 mm/s would continue to be used for future experiments unless other apparatus changes, such as lengthening the plate settler portion of the sedimentation tube, occur later in the semester."
      ]
    },
    {
      "cell_type": "markdown",
      "metadata": {
        "id": "kw9hsb33sb6R",
        "colab_type": "text"
      },
      "source": [
        "### Inconclusive Results of a Larger Floc Weir\n",
        "So far, the experiments run with the sedimentation tube with a 1\" floc weir have been qualitative. The team observed that, at a fluoride concentration of 5 mg/L, a PACl concentration of 10 mg/L, and an upflow velocity of 1.5 mm/s, the flocs seemed to build up a gel at the entrance of the floc weir. The gel was made up of flocs that appeared to be unmoving at the opening of the weir; other flocs from the floc blanket were able to move around the side of the gel but not through it. Compared to behavior of flocs in the weir on the normal sedimentation tubes, the flocs fell much slower and seemed to stop a few inches below the entrance instead of falling all the way to the end. The team hypothesized that the angle of the floc weir from the horizontal, which was around 20°, was too small to allow the flocs to fall the full length of the weir. However, more experiments must be run for a more concrete conclusion to be made.\n",
        "<center>\n",
        "  <img src=\"https://github.com/AguaClara/Fluoride-Auto/blob/master/Summer%202019/Images/Large%20Weir.gif?raw=true\">\n",
        "  </center>\n",
        "  \n",
        "**Figure 22:** The initial experiment in the sedimentation tube with the large floc weir. Flocs built up at the entrance of the floc weir and seemed to stop moving while flocs on the left side were able to move around it."
      ]
    },
    {
      "cell_type": "markdown",
      "metadata": {
        "id": "Me12TWjY-Iys",
        "colab_type": "text"
      },
      "source": [
        "## Conclusions\n",
        "So far, the Summer 2019 team has tested different PACl concentrations on 5 mg/L of influent fluoride in both the Automated and Gravity systems. Despite a few successful experiments in both systems, the majority of tests resulted in the buildup of flocs and gel on the plate settlers before the floc weir was filled to capacity, which the team deemed to be failed experiments. The team added clay to the Automated system and has thus far concluded that, while the measured uptake of the system with clay has not been significantly higher than the uptake without clay, the weir seems to be more successful at capturing flocs when clay is present. An upflow velocity of 1 mm/s was determined to be usable for experiments, since it allowed a proper floc blanket to form but did not allow gel to form at the bottom of the reactor. \n",
        "\n",
        "The team agrees that more experiments with different dosages of PACl and clay, in both the Automated and Gravity system, must be run in order to formulate a conclusion on a suitable model for fluoride removal."
      ]
    },
    {
      "cell_type": "markdown",
      "metadata": {
        "id": "uQBlaQNP-VJA",
        "colab_type": "text"
      },
      "source": [
        "## Future Work\n",
        "Going forward, the team plans to continue systematically testing different PACl-to-fluoride ratios in order to obtain an optimal coagulant dosage that will lead to an effluent concentration below 1.0 mg/L of fluoride. The influent fluoride concentrations to be tested will be between 1 and 10 mg/L, in order to simulate realistic groundwater conditions ([Rao et.al.](https://link.springer.com/article/10.1007/s00254-003-0873-3))\n",
        "\n",
        "As clay was just recently introduced into the automated system and the team has not confirmed its role in the sedimentation process, clay will continue to be added and observed to determine how it affects fluoride removal and at what dosage it should be added if it is deemed necessary to the process. In the current setup, clay is added after the flocculator and before the sedimentation tube. However, the team will also test the system with clay added before the flocculator, to see if the process will improve or not. Once there is enough evidence to inform the team's decision about where the clay should enter the system and at which dosage, clay will be implemented into the gravity-powered system and tested. \n",
        "\n",
        "In addition to running more experiments with clay, the team is in the process of developing a method of analyzing the effects of both PACl and clay dosages at the same time. One consideration is to plot uptake against an influent concentration of clay. When more data points are obtained, the team will try plotting this graph and see if it yields any insight.\n",
        "\n",
        "In terms of potentially making geometrical changes to the system, the team is considering increasing the angle of the 1\" floc weir and seeing if the flocs can be removed without clay. If the larger floc weir proves to be successful, clay may no longer be necessary.\n",
        "\n",
        "Throughout the testing in the next several weeks, the results of each experiment will continue to be plotted on the Uptake vs. Effluent Concentration graph, with the ultimate goal of creating a model or best fit line that will provide insight as to how AguaClara plants should treat water with a high fluoride content.\n",
        "\n",
        "Additionally, the team will continue trying different methods of decomplexing the aluminum hydroxyl fluoride complexes that make up flocs. The goal is to ensure that all of the fluoride in the effluent is in the form of ions rather than flocs so that all the fluoride can be detected by the ion selective probe. Once there is a reliable way to consistently decomplex flocs, the team will use a uniform measuring process for experiments going forward.\n",
        "\n",
        "In the future, experiments will also be more closely monitored in terms of time to failure. The Summer 2019 team has so far observed failure times within two, and occasionally one, hour. One of the major goals going forward will be not only to remove a significant amount of fluoride from influent water but also to ensure that the system will work for many hours instead of failing so quickly.\n",
        "\n",
        "In terms of making this process more accessible to a plant operator, the team will continue to explore and discuss ways in which successful treatment of the water can be visibly confirmed, since the fluoride ions as well as flocs are currently clear and difficult to see without a flashlight. The team hypothesizes that adding the clay to the treatment process may increase the turbidity of the flocs and thus give plant operators a concrete way of determining that the effluent water is safe to drink. This hypothesis will be tested within the next few weeks as well.\n",
        "\n",
        "Despite the progress that the AguaClara Fluoride team has made over the past three years, there still remain many unknown aspects of fluoride treatment that must be addressed before the process can be used in the field."
      ]
    },
    {
      "cell_type": "markdown",
      "metadata": {
        "id": "ZXUik5SH-YFM",
        "colab_type": "text"
      },
      "source": [
        "## Bibliography\n",
        "\n",
        "Akpan, P., Mehrabyan, T,. Sausele, D., & Zhang, V. (2018). Fluoride, Spring 2018. Retrieved from https://github.com/AguaClara/Fluoride-Auto/blob/master/FluorideReportSp18.md.\n",
        "\n",
        "Bhattacharya, P., & Samal, A. (2018, April). Fluoride contamination in groundwater, soil and cultivated foodstuffs of\n",
        "India and its associated health risks: A Review. Research Journal of Recent Sciences, 7(4),36-47. Retrieved from http://www.isca.in/rjrs/archive/v7/i4/6.ISCA-RJRS-2018-028.pdf.\n",
        "\n",
        "Bureau of Indian Standards. (2012). IS 10500: Drinking water. Retrieved from https://archive.org/details/gov.in.is.10500.2012/page/n3.\n",
        "\n",
        "Hem, J. D., & Roberson, C. E. (1967). Form and Stability of Aluminum Hydroxide Complexes in Dilute Solution [PDF]. Washington: U.S. Department of the Interior.\n",
        "\n",
        "Ion-Selective Electrode Determination of Complex Formation Constants in Submicromolar Silver [PDF]. (1975). Analytical Chemistry.\n",
        "\n",
        "Huang, S., Jin, C., Kohli, S., Fluoride Gravity, Spring 2019. Retrieved from https://github.com/AguaClara/Fluoride_Gravity/blob/master/Spring%202019/Spring%202019%20Report.md.\n",
        "\n",
        "LeChevallier, M. W., & Au, K. (2014, December 10). Water treatment and pathogen control: Process efficiency in achieving safe drinking water. Retrieved from https://www.who.int/water_sanitation_health/publications/9241562552/en/.\n",
        "\n",
        "Logan, B. E., Hermanowicz, S. W., & Parker,A. S. (1987). A Fundamental Model for Trickling Filter Process Design. Journal (Water Pollution Control Federation), 59(12), 1029–1042.\n",
        "\n",
        "Pang, C., Sarmiento, K., & Tsang, C. (2018). Fluoride Gravity, Fall 2018. Retrieved from https://github.com/AguaClara/Fluoride_Gravity/blob/master/Fall%202018/Fluoride_Grav_Fall2018_Report.md.\n",
        "\n",
        "Rao, N. S., & Devadas, D. J. (2003, September 05). Fluoride incidence in groundwater in an area of Peninsular India. Retrieved from https://link.springer.com/article/10.1007/s00254-003-0873-3\n",
        "\n",
        "United States, NYC Environmental Protection. (2016). New York City 2016 Drinking Water Supply and Quality Report. New York. Retrieved from http://www.nyc.gov/html/dep/pdf/wsstate16.pdf.\n",
        "\n",
        "World Health Organization. (2016, August 29). Water-related diseases. Retrieved from http://www.who.int/water_sanitation_health/diseases-risks/diseases/fluorosis/en/."
      ]
    },
    {
      "cell_type": "markdown",
      "metadata": {
        "id": "EvBA8kN4-dty",
        "colab_type": "text"
      },
      "source": [
        "# Manual"
      ]
    },
    {
      "cell_type": "markdown",
      "metadata": {
        "id": "vQiV3jwELreb",
        "colab_type": "text"
      },
      "source": [
        "###Fabricating the Sedimentation Tube\n",
        "*Safety Precautions: Wear heat-resistant gloves while using the PVC welder. Apply primer and cement glue in close proximity to the fume hood.*\n",
        "1.   Cut a 86.5 cm length of 1” inner diameter PVC, first using a hand saw and then using a band saw for accuracy. Lightly use the deburring tool to remove any sharp edges.\n",
        "2.   Measure the 50 cm point on the tube and indicate it with a marker. Also make two marks on either side of this point, in about 1-2 cm increments.\n",
        "<center>\n",
        " <img src = \"https://raw.githubusercontent.com/AguaClara/Fluoride-Auto/master/Summer%202019/Images/sed%20tube%20marks.JPG\">\n",
        "  </center>\n",
        "  \n",
        "  **Figure 23:** Approximate areas to mark on the PVC before bending.\n",
        "  \n",
        "3.   Cap one end of the tubing and fill the entire tube with sand through the open end. Cap that end as well.\n",
        "4. Place the PVC horizontally in a vise. Line up the tube so that one of the marks on the end is touching the edge of the vise.\n",
        "5.   Use a protractor to measure a 160° angle, using the 50 cm point as the center point. Affix a clamp to the edge of the table to indicate the angle (where the angled part will reach once bent).\n",
        " <center>\n",
        "   <img src=\"https://raw.githubusercontent.com/AguaClara/Fluoride-Auto/master/Summer%202019/Images/Sed%20Tube%20Angle.png\">\n",
        "  </center>\n",
        "  \n",
        "  **Figure 24:** Method for measuring and marking an angle for bending the sedimentation tube.\n",
        "6.   Make sure the top of the welding tool is open, so that air will blow out of the circular part as shown below. Allow the welding tool to heat up to around 400°F. \n",
        "<center>\n",
        " <img src=\"https://raw.githubusercontent.com/AguaClara/Fluoride-Auto/master/Summer%202019/Images/Welder.png\" />\n",
        " </center>\n",
        " \n",
        " **Figure 25:** Welder without the top screw-on piece.\n",
        "7.   Heat up the PVC along the section indicated by the tick marks drawn earlier, making sure to heat all along the circumference of the pipe. \n",
        "8.   Slowly bend the PVC towards the clamp until it touches the clamp. \n",
        "9.   Hold the PVC in the bent position for several minutes, until it cools.\n",
        "10.   Cut a 40 cm length of 3/4\" PVC for the floc weir. \n",
        "11. Use the band saw and protractor to cut one end of the floc weir at an angle less than 70°. Any angle should work as long as the floc weir is not horizontal.\n",
        "12. The hole for the floc weir should be drilled on the 36.5 cm part of the 1\" PVC, 9.4 cm away from the bend. Angle the drill press so that it will drill at a 60-70° angle. \n",
        "13. Fit the 3/4\" PVC into the hole drilled in the 1\" PVC. Re-drilling may be necessary if the hole is too small. Also make sure that the floc weir does not protrude into the inner diameter of the 1\" PVC (filing may be necessary to prevent this).\n",
        "14.  Brush Clear Primer onto the angled end of the floc weir and around/inside the drilled hole of the sedimentation tube. \n",
        "15.  Apply Heavy Duty Clear PVC Cement to the angled end of the floc weir and the hole of the sedimentation tube. \n",
        "16.  Affix the floc weir to the sedimentation tube and allow it to sit in the right position for about two hours.\n",
        "17.  Run water through the tube and check for leaks. If there are leaks, use the PVC welder and clear welding rod to make the tube water tight.\n",
        "  \n",
        "*Note: The PVC welding rod should melt around 530°F. If the rod does not seem to be melting, use a screwdriver to clean out the screw-on top piece of the welder or take it to the Machine Shop to melt any remaining plastic using a blowtorch."
      ]
    },
    {
      "cell_type": "markdown",
      "metadata": {
        "id": "jlu4xbxu-Bdr",
        "colab_type": "text"
      },
      "source": [
        "### Calibrating the Fluoride Probe\n",
        "#### Set Up the Calibration Spreadsheet\n",
        "In Excel, set up a table as shown in the image below. The yellow highlighted cells are for the voltages measured during calibration, while the green highlighted cell is for a voltage measured during an experiment. A new spreadsheet should be used for every calibration. A linear graph, while not necessary, can be a helpful visual.\n",
        "<center>\n",
        "  <img src=\"https://raw.githubusercontent.com/AguaClara/Fluoride-Auto/master/Summer%202019/Images/Calibration%20Sheet.png\">\n",
        "  </center>\n",
        "  \n",
        "**Figure 26:**  Calibration Excel Sheet.\n",
        "\n",
        "#### Using the Probe on ProCoDA\n",
        "The probe only needs to be added to ProCoDA once. On the \"Configuration\" tab, click the icon labeled \"Volts.\"\n",
        "<center>\n",
        "  <img src=\"https://raw.githubusercontent.com/AguaClara/Fluoride-Auto/master/Summer%202019/Images/Volts%20Link.png\">\n",
        "  </center>\n",
        "  \n",
        "  **Figure 27:**  Volts icon on ProCoDA.\n",
        "  \n",
        "  Click \"Insert Sensor\" and name it \"Fluoride Probe.\" This screen is also a good way to check if the probe is reading a voltage.\n",
        "  \n",
        "  <center>\n",
        "    <img src=\"https://github.com/AguaClara/Fluoride-Auto/blob/master/Summer%202019/Images/Volt%20Reading.png?raw=true\">\n",
        "  </center>\n",
        "  \n",
        " **Figure 28:** Screen to add a probe and check voltage reading on ProCoDA.\n",
        "\n",
        "#### Daily Probe Calibration Procedure\n",
        "*Safety Precautions: Wear Latex gloves when handling fluoride, in order to prevent contact with bare skin.*\n",
        "1.  Make fluoride standard solutions of 1 mg/L, 5 mg/L, 10 mg/L, 20 mg/L, and 100 mg/L of fluoride. Use water from the tap. Standards only need to be made once.\n",
        "<center>\n",
        "  <img src=\"https://raw.githubusercontent.com/AguaClara/Fluoride-Auto/master/Summer%202019/Images/Standard%20Solutions.JPG\">\n",
        "  </center>\n",
        "  \n",
        "**Figure 29:**  The Summer 2019 standard solutions. The probe is stored in the 10 mg/L standard when not in use.\n",
        "2.  Use a squeeze bottle to rinse the sides and bottom of the probe with DI water. Gently dab the probe dry with a Kimwipe.\n",
        "3.  Shake the standard (a good strategy is start with the 1 mg/L or 20 mg/L standard and go in order of increasing or decreasing concentration).\n",
        "4.  Push the O-ring down the probe until the fill hole is exposed.\n",
        "5.  Slide the probe into the hole in the bottle cap. Twist the cap onto the standard. Make sure the probe is not touching the sides or bottom of the bottle.\n",
        "6.  Click the \"Graphs\" tab on ProCoDA and highlight \"Fluoride Probe.\"\n",
        "7.  Do not touch the bottle or probe while the reading stabilizes. Try not to have any stirrers or pumps on at the same time, as the motion may disturb the probe. The calibration curve should look similar to the one below.\n",
        "<center>\n",
        " <img src=\"https://raw.githubusercontent.com/AguaClara/Fluoride-Auto/master/Summer%202019/Images/Probe%20Calibration%20Curve.png\">\n",
        "</center>\n",
        "\n",
        "**Figure 30:** A typical calibration curve for a working probe.\n",
        "8.  Once the number under the box labeled \"Voltage\" (highlighted in Figure X) stops changing, record the number next to the corresponding concentration in the Excel spreadsheet.\n",
        "9.  Repeat steps 2-8 for all standards.\n",
        "10. When the probe is not in use, store in the 10 mg/L standard. Remember to close the fill hole when finished with the probe for the day."
      ]
    },
    {
      "cell_type": "markdown",
      "metadata": {
        "id": "fky6QAi-LuZx",
        "colab_type": "text"
      },
      "source": [
        "###Troubleshooting the Fluoride Probe\n",
        "####Indicators that the reading is inaccurate\n",
        "* The probe does not respond to movement, such as shaking or stirring of the solution it is submerged in.\n",
        "* The probe reads a voltage of 0.600 mV.\n",
        "* The reading does not change for standard solutions of different concentrations.\n",
        "* The R^2 value is below 0.99."
      ]
    },
    {
      "cell_type": "markdown",
      "metadata": {
        "id": "pbSb4T0ILyVT",
        "colab_type": "text"
      },
      "source": [
        "####Options for Troubleshooting\n",
        "* Make sure there is enough reference solution in the probe. If not, refill the reference solution. Refer to the manufacturer manual.\n",
        "* Close out of ProCoDA and restart it.\n",
        "* Unplug the probe's BNC connector from the relay box (see Figure 1), wait ten seconds, replug.\n",
        "* Unplug the wire connecting the relay box to the ProCoDA box (see Figure 32), wait ten seconds, replug.\n",
        "* Replace the wire connecting the relay box to the ProCoDA box.\n",
        "* Remake the standard solutions and try re-calibrating.\n",
        "* Allow the probe to sit in DI water for 30 minutes.\n",
        "\n",
        "<center>\n",
        "  <img src=\"https://raw.githubusercontent.com/AguaClara/Fluoride-Auto/master/Summer%202019/Images/Relay%20Box.png\">\n",
        "  </center>\n",
        "  \n",
        "**Figure 31:**  Relay box.\n",
        "\n",
        "<center>\n",
        "  <img src=\"https://raw.githubusercontent.com/AguaClara/Fluoride-Auto/master/Summer%202019/Images/ProCoDA%20Box.png\">\n",
        "  </center>\n",
        " \n",
        "**Figure 32:**  ProCoDA box.\n",
        "  "
      ]
    },
    {
      "cell_type": "markdown",
      "metadata": {
        "id": "4qxbaI3-L1dp",
        "colab_type": "text"
      },
      "source": [
        "###Running Experiments in ProCoDA\n",
        "1.   Before running any experiments, make sure the pump is calibrated on ProCoDA by clicking the \"Configuration\" tab and the icon under \"Pump Calibration\" on the right side. Pump calibration only needs to be done once.\n",
        "<center>\n",
        "  <img src=\"https://raw.githubusercontent.com/AguaClara/Fluoride-Auto/master/Summer%202019/Images/Pump%20Calibration.png\">\n",
        "  </center>\n",
        "\n",
        "**Figure 33:** Pump calibration icon on ProCoDA.\n",
        "2.   Choose experimental concentrations for the reactor (concentration of PACl, fluoride, and clay desired in the reactor) and upflow velocity. Use the Python code (Code for Automated Experimental Flow Rates) to generate required flow rates in mL/s.\n",
        "3.  Type PACl flow rate into set point named \"Flow Rate of Coagulant.\"\n",
        "4.  Under \"Coagulant Pump\" set point, select \"Flow Rate of Coagulant\" and \"Coagulant mL/rev.\"\n",
        "5.  Type water flow rate into set point named \"Flow Rate of Water.\"\n",
        "6.  Under \"Water Pump\" set point, select \"Flow Rate of Water\" and \"Water mL/rev\" (or \"Water Tubing Size,\" depending on the required set points specified at the bottom of the screen).\n",
        "7.  Manually set the fluoride and clay pumps to the RPM generated by the Python code.\n",
        "8.  Under the \"Run Experiment\" rule, set Pump 1 and Pump 0 to the corresponding pumps (water and PACl). Make sure the pumps are set to \"ON.\" The direction of the pump should be \"ON\" or \"OFF\" depending on whether the pump should be running clockwise or counterclockwise.\n",
        "9.  Under the \"Process Operation\" tab, click the drop down arrow under \"Operator Selected State\" and click \"Run Experiment.\"\n",
        "10.  Turn on manual pumps.\n",
        "<center>\n",
        "  <img src=\"https://raw.githubusercontent.com/AguaClara/Fluoride-Auto/master/Summer%202019/Images/Run%20Experiment.png\">\n",
        "  </center>\n",
        "  \n",
        "  **Figure 34:** ProCoDA menu for running experiment once all set points and rules are made."
      ]
    },
    {
      "cell_type": "markdown",
      "metadata": {
        "id": "CXrgSYivAoEr",
        "colab_type": "text"
      },
      "source": [
        "## Experimental Checklist\n",
        "*Make sure this checklist is completed before running an experiment.*\n",
        "1.  All pumps are on. 100 RPM pumps that are controlled by ProCoDA should be set to \"Ext\" (External) while 600 RPM pumps that are controlled by ProCoDA should be set to \"mA.\"\n",
        "2.  All stock tanks have their stirrers on.\n",
        "3.  Turbidimeter is turned on.\n",
        "4.  Floc weir valve is closed.\n",
        "5.  Datalog is on. On the \"Configuration\" tab of ProCoDA, make sure there is a path in the white box labelled \"Datalog directory path.\" Alternatively, a text log (icon below the \"Datalog directory path\" icon that is labelled \"123 log\") can be used for short experiments, i.e. experiments that will not last more than two hours."
      ]
    },
    {
      "cell_type": "markdown",
      "metadata": {
        "id": "cv06b20oAj1G",
        "colab_type": "text"
      },
      "source": [
        "### Cleaning Procedure\n",
        "*This procedure should be completed after every experiment.*\n",
        "1. Pause all pumps.\n",
        "2. Manually set the Water Pump to the \"Int\" (Internal) setting. \n",
        "3. Increase the flow rate on the Water Pump to between 300 and 400 rpm. Turn the pump on.\n",
        "4. Allow the pump to run for several minutes. If the experiment contained fluoride, use a flashlight to ensure that flocs leave the top of the sedimentation tube.\n",
        "5. When the turbidity begins decreasing again, turn off the pump. \n",
        "6. Open the floc weir over a beaker or bottle and make sure all the flocs exit.\n",
        "7. If the reactor needs to be drained for any reason, place a container underneath it and disconnect the influent tubing at the bottom of the sedimentation tube. Then disconnect the effluent tubing at the top of the reactor. The floc weir can be opened and drained last."
      ]
    },
    {
      "cell_type": "markdown",
      "metadata": {
        "id": "BiTsuHFrGAm5",
        "colab_type": "text"
      },
      "source": [
        "## ProCoDA Method File"
      ]
    },
    {
      "cell_type": "markdown",
      "metadata": {
        "id": "CnTgFhHEGE_f",
        "colab_type": "text"
      },
      "source": [
        "### States\n",
        "- **OFF**: All sensors and pumps are turned off.\n",
        "- **JUST WATER**: Only the Just Water Pump is ON. Used for cleaning out the system after an experiment. Alternatively, the water pump can be set to \"Int\" (Internal) and the system can be manually cleaned out.\n",
        "- **RUN EXPERIMENT**: The Water Pump and Coagulant Pump are ON."
      ]
    },
    {
      "cell_type": "markdown",
      "metadata": {
        "id": "Ks6ALZO2GH_E",
        "colab_type": "text"
      },
      "source": [
        "### Set Points\n",
        "Set points should be made in the order that they are used. For example, a variable that depends on a constant should appear after the constant in the list. Additionally, if any set points are made or deleted anywhere besides at the end of the list, check that the variables are set to depend on the correct constant since the selected set points depend on their position on the list. \n",
        "\n",
        "####Water\n",
        "*Constants*:\n",
        "* *Flow Rate of Water:* Flow rate of water in mL/s.\n",
        "* *Water mL/rev:* Based on tubing size. The Summer 2019 team used tubing size code 16, which corresponds to 0.8 mL/rev. Flow rates for other tubing sizes can be found under the Auto Tutorial for Peristaltic Pumps on the AguaClara Confluence page. Alternatively, the \"Water Tubing Size\" set point can be used.\n",
        "\n",
        "Variables:\n",
        "* *Water Pump:* Depends on the previous two constants. The number displayed in the \"Value\" box is the number that will be displayed on the pump divided by a factor of 100.\n",
        "\n",
        "<center>\n",
        "  <img src=\"https://raw.githubusercontent.com/AguaClara/Fluoride-Auto/master/Summer%202019/Images/Water%20Set%20Point.png\">\n",
        "  </center>\n",
        "  \n",
        "  **Figure 35:** Water Pump set point screen on ProCoDA.\n",
        "\n",
        "####PACl\n",
        "Constants:\n",
        "* *Flow Rate of Coagulant:* Flow rate of PACl in mL/s.\n",
        "* *Coagulant mL/rev:* Based on tubing size. The Summer 2019 team used orange-yellow microtubing, which corresponds to 0.019 mL/rev.\n",
        "\n",
        "Variables:\n",
        "* *Coagulant Pump:* Depends on the previous two constants.\n",
        "\n",
        "####Fluoride\n",
        "The team did not use the fluoride set point as part of the experiments since the pump was run manually. The following set points can be used to check the correct RPM at which the pump should be set, although it they are not necessary since there is available Python code for the same calculations.\n",
        "  Constants:\n",
        "* *Flow Rate of Fluoride:* Flow rate of fluoride in mL/s.\n",
        "* *Fluoride mL/rev:* Based on tubing size. The Summer 2019 team used orange-yellow microtubing.\n",
        "\n",
        "Variables:\n",
        "* *Fluoride Pump:* Depends on the previous two constants.\n",
        "\n",
        "####Clay\n",
        "The team did not use the clay set point as part of the experiments since the pump was run manually. The following set points can be used to check the correct RPM at which the pump should be set, although it they are not necessary since there is available Python code for the same calculations.\n",
        "  Constants:\n",
        "* *Flow Rate of Clay:* Flow rate of clay in mL/s.\n",
        "* *Water mL/rev:* Based on tubing size. The Summer 2019 team used orange-yellow microtubing.\n",
        "\n",
        "Variables:\n",
        "* *Clay Pump:* Depends on the previous two constants.\n",
        "\n",
        "####Turbidity\n",
        "Make sure this set point is correctly implemented so that turbidity will be logged in the datalog.\n",
        "\n",
        " Constants:\n",
        "  * *Com Port Number*\n",
        "  * *Turbidity ID*\n",
        "  \n",
        "Variables:\n",
        "  * *Turbidity:* Depends on the previous two constants."
      ]
    },
    {
      "cell_type": "markdown",
      "metadata": {
        "id": "LaELphDxGIE-",
        "colab_type": "text"
      },
      "source": [
        "## Python Code"
      ]
    },
    {
      "cell_type": "markdown",
      "metadata": {
        "id": "uNiQXErgGRg7",
        "colab_type": "text"
      },
      "source": [
        "### Code for Automated Experimental Flow Rates\n",
        "The following code is used to calculate experimental flow rates for desired concentrations of PACl, fluoride, and clay. The PACl flow rate in mL/s can be put into ProCoDA, while the fluoride and clay flow rates are most useful in RPM, since these pumps are run manually."
      ]
    },
    {
      "cell_type": "code",
      "metadata": {
        "id": "Cq2qbVl1GpO3",
        "colab_type": "code",
        "colab": {}
      },
      "source": [
        "!pip install aguaclara"
      ],
      "execution_count": 0,
      "outputs": []
    },
    {
      "cell_type": "code",
      "metadata": {
        "id": "anc_Yv0I8Goq",
        "colab_type": "code",
        "colab": {}
      },
      "source": [
        "import math as m\n",
        "import numpy as np\n",
        "from aguaclara.play import*\n",
        "\n",
        "#UPFLOW VELOCITY\n",
        "#Diameter of reactor tube\n",
        "D_reactor = 1 * u.inch\n",
        "#Input upflow velocity\n",
        "V_up = 1.5 * u.mm/u.s\n",
        "#Flow rate into reactor\n",
        "Q_reactor = (m.pi*((D_reactor/2)**2)*V_up).to(u.mL/u.s)\n",
        "#Height of reactor\n",
        "H_reactor = 50 * u.inch\n",
        "# Volume of reactor\n",
        "Vol_reactor = (m.pi * ((D_reactor)**2)*H_reactor/4).to(u.mL)\n",
        "# Residence time in reactor\n",
        "T_residence= (Vol_reactor/Q_reactor).to(u.minute)\n",
        "\n",
        "#PACL\n",
        "#Concentration of PACl stock\n",
        "C_stock_PACl = 1000*u.mg/u.L\n",
        "#Input concentration of PACl that you want in the reactor\n",
        "C_reactor_PAC = 25*u.mg/u.L\n",
        "#Coagulant microtubing (orange-yellow)\n",
        "oy_tube=0.019*u.mL/u.revolutions\n",
        "#Flow rate of PACl in mL/s (put into ProCoDA)\n",
        "Q_stock_PAC = Q_reactor*(C_reactor_PAC/C_stock_PACl)\n",
        "print('PACl should be set in ProCoDA to: '+ str(Q_stock_PAC))\n",
        "Q_stock_PAC_rpm = (Q_stock_PAC/oy_tube)*60*u.sec/u.min\n",
        "print('PACl in rpm is: '+str(Q_stock_PAC_rpm))\n",
        "\n",
        "#FLUORIDE\n",
        "#Concentration of fluoride stock\n",
        "C_stock_F = 1000*u.mg/u.L\n",
        "#Input concentration of fluoride that you want in the reactor\n",
        "C_reactor_F = 5*u.mg/u.L\n",
        "#Fluoride microtubing (orange-yellow)\n",
        "oy_tube=0.019*u.mL/u.revolutions\n",
        "#Flow rate of fluoride in mL/s (check in ProCoDA)\n",
        "Q_stock_F = Q_reactor*(C_reactor_F/C_stock_F)\n",
        "print('Fluoride can be set in ProCoDA to: '+str(Q_stock_F))\n",
        "#Flow rate of fluoride in RPM (put into manual pump)\n",
        "Q_stock_F_rpm = (Q_stock_F/oy_tube)*60*u.sec/u.min\n",
        "print('Fluoride pump should be set at: '+str(Q_stock_F_rpm))\n",
        "\n",
        "#CLAY\n",
        "#Concentration of clay stock\n",
        "C_stock_clay = 100*u.mg/u.L\n",
        "#Input concentration of PACl that you want in the reactor\n",
        "C_reactor_clay = 0*u.mg/u.L\n",
        "#Coagulant microtubing (orange-yellow)\n",
        "oy_tube=0.019*u.mL/u.revolutions\n",
        "#Flow rate of PACl in mL/s (put into ProCoDA)\n",
        "Q_stock_clay = Q_reactor*(C_reactor_clay/C_stock_clay)\n",
        "print('Clay should be set in ProCoDA to: '+ str(Q_stock_clay))\n",
        "Q_stock_clay_rpm = (Q_stock_clay/oy_tube)*60*u.sec/u.min\n",
        "print('Clay in rpm is: '+str(Q_stock_clay_rpm))\n",
        "\n",
        "#WATER\n",
        "#Flow rate of water in mL/s (put into ProCoDA)\n",
        "Q_tap = Q_reactor - 1*Q_stock_PAC - 1*Q_stock_F - 1*Q_stock_clay\n",
        "print('Water should be set in ProCoDA to: '+str(Q_tap))\n",
        "water_tube = 0.8*u.mL/u.revolutions\n",
        "Q_tap_rpm = (Q_tap/(water_tube))*(60*u.sec/u.minute)\n",
        "print('Water in rpm should be: '+str(Q_tap_rpm))"
      ],
      "execution_count": 0,
      "outputs": []
    },
    {
      "cell_type": "markdown",
      "metadata": {
        "id": "HUiAGJouPYTo",
        "colab_type": "text"
      },
      "source": [
        "### Code for Gravity Experimental Flow Rates\n",
        "The following code is used to calculate flow rates for upflow velocity and coagulant in the gravity-powered system.\n",
        "\n",
        "The slope is taken from data collected from the Spring 2019 Gravity team, which volumetrically measured the flow rate of PACl and the upflow velocity of the system and generated a model for calculating flow rates based on heights using these experimental values. The graph may need to be redone in the future because of previous inconsistencies in height measurements (some teams measured from the bottom of the adjustable maneuvering trays while others measured from the top)."
      ]
    },
    {
      "cell_type": "code",
      "metadata": {
        "id": "tMOBhSSGQEAW",
        "colab_type": "code",
        "colab": {}
      },
      "source": [
        "import math as m\n",
        "import numpy as np\n",
        "from aguaclara.play import*\n",
        "\n",
        "#UPFLOW VELOCITY\n",
        "#Cross-sectional area of\n",
        "A_reactor = 506.7*u.mm**2\n",
        "#Input height of effluent tube\n",
        "H_effluent = 2.5 * u.cm\n",
        "#Volumetric flow rate\n",
        "#Slope of the graph from Spring 2019\n",
        "Slope_effluent = 0.028778 * u.mL/u.s/u.cm\n",
        "Q_reactor = H_effluent * Slope_effluent\n",
        "Q_reactor = Q_reactor.to(u.mm**3/u.s)\n",
        "#Upflow Velocity\n",
        "V_up = Q_reactor/A_reactor\n",
        "print(\"Upflow velocity is \"+str(V_up))\n",
        "\n",
        "#PACL CONCENTRATION\n",
        "#Concentration of PACl stock\n",
        "C_stock_PACl = 1000 * u.mg/u.L\n",
        "#Input height of PACl adjustable maneuver\n",
        "H_PACl = 6 * u.cm\n",
        "#Volumetric flow rate\n",
        "#Slope of the graph from Spring 2019\n",
        "Slope_PACl = 0.000544 * u.mL/u.s/u.cm\n",
        "Q_stock_PAC = H_PACl * Slope_PACl\n",
        "C_stock_PAC = 1000 * u.mg/u.L\n",
        "C_stock_PAC = C_stock_PAC.to(u.mg/u.mL)\n",
        "C_reactor_PAC = Q_stock_PAC*C_stock_PAC/(Q_reactor.to(u.L/u.s))\n",
        "print(\"Concentration of PACl in the reactor is \"+str(C_reactor_PAC))"
      ],
      "execution_count": 0,
      "outputs": []
    },
    {
      "cell_type": "markdown",
      "metadata": {
        "id": "KIjxhJ1U_D7v",
        "colab_type": "text"
      },
      "source": [
        "### Code for Graphing Cumulative Data with the Langmuir Isotherm\n",
        "The following code was developed by the Spring 2019 team to graph all data since Summer 2018, along with a best fit line for the data and the theoretical curve that follows the Langmuir Isotherm."
      ]
    },
    {
      "cell_type": "code",
      "metadata": {
        "id": "w6D_Vlj_B46Y",
        "colab_type": "code",
        "colab": {}
      },
      "source": [
        "import matplotlib.pyplot as plt\n",
        "import pandas as pd\n",
        "import scipy.stats as stats\n",
        "import numpy as np\n",
        "import scipy.optimize as opt\n",
        "\n",
        "# import the summer 2018 data: summer18\n",
        "summer18 = pd.read_csv('https://raw.githubusercontent.com/AguaClara/Fluoride-Auto/master/Spring%202019/Langmuir%20Isotherm%20Data/Summer%202018%20data%20points.csv')\n",
        "summer18_effluent=summer18.iloc[:,0]\n",
        "summer18_uptake=summer18.iloc[:,1]\n",
        "summer18plot, =plt.plot(summer18_effluent,summer18_uptake,\"ro\")\n",
        "\n",
        "# import the fall 2018 data: fall18\n",
        "fall18 = pd.read_csv('https://raw.githubusercontent.com/AguaClara/Fluoride-Auto/master/Spring%202019/Langmuir%20Isotherm%20Data/Fall%202018%20data.csv')\n",
        "fall18_effluent=fall18.iloc[:,0]\n",
        "fall18_uptake=fall18.iloc[:,1]\n",
        "fall18plot, =plt.plot(fall18_effluent,fall18_uptake,\"bo\")\n",
        "\n",
        "# import the spring 2019 data: spring19\n",
        "spring19 = pd.read_csv('https://raw.githubusercontent.com/AguaClara/Fluoride-Auto/master/Spring%202019/Langmuir%20Isotherm%20Data/Spring%202019%20data.csv')\n",
        "spring19_effluent=spring19.iloc[:,0]\n",
        "spring19_uptake=spring19.iloc[:,1]\n",
        "spring19plot, =plt.plot(spring19_effluent,spring19_uptake,\"ys\")\n",
        "\n",
        "# import the summer 2019 data: summer19\n",
        "summer19 = pd.read_csv('https://raw.githubusercontent.com/AguaClara/Fluoride-Auto/master/Summer%202019/Summer%202019%20data.csv')\n",
        "summer19_effluent=summer19.iloc[14,1]\n",
        "summer19_uptake=summer19.iloc[14,4]\n",
        "summer19plot, =plt.plot(summer19_effluent,summer19_uptake,\"ms\")\n",
        "\n",
        "# import the summer 2019 data without clay: summer19noclay\n",
        "summer19noclay = pd.read_csv('https://raw.githubusercontent.com/AguaClara/Fluoride-Auto/master/Summer%202019/No%20Clay.csv')\n",
        "summer19_noclay_effluent=summer19noclay.iloc[:,1]\n",
        "summer19_noclay_uptake=summer19noclay.iloc[:,4]\n",
        "summer19noclayplot, =plt.plot(summer19_noclay_effluent,summer19_noclay_uptake,\"m*\")\n",
        "\n",
        "# import the summer 2019 data with clay: summer19clay\n",
        "summer19clay = pd.read_csv('https://raw.githubusercontent.com/AguaClara/Fluoride-Auto/master/Summer%202019/Clay.csv')\n",
        "summer19_clay_effluent=summer19clay.iloc[:,1]\n",
        "summer19_clay_uptake=summer19clay.iloc[:,4]\n",
        "summer19clayplot, =plt.plot(summer19_clay_effluent,summer19_clay_uptake,\"b*\")\n",
        "\n",
        "# find the logarithmic line of best fit for the data\n",
        "alldata=pd.read_csv('https://raw.githubusercontent.com/AguaClara/Fluoride-Auto/master/Spring%202019/Langmuir%20Isotherm%20Data/All%20Experimental%20Data%20Points.csv')\n",
        "alldata_effluent=alldata.iloc[:,0]\n",
        "alldata_uptake=alldata.iloc[:,1]\n",
        "alldata_theoretical_uptake=alldata.iloc[:,2]\n",
        "np.polyfit(np.log(alldata_effluent),alldata_uptake,1)\n",
        "# line of best fit for data: uptake = 95.63250099 log(effluent) + 131.89094095\n",
        "\n",
        "# graph line of best fit with data points\n",
        "bestfit_effluent = np.array(np.linspace(0.45,12))\n",
        "bestfit_uptake =  95.63250099 * np.log(bestfit_effluent) + 131.89094095\n",
        "bestfit_plot, =plt.plot(bestfit_effluent,bestfit_uptake)\n",
        "\n",
        "# find r^2 value for line of best fit\n",
        "log_alldata_effluent=np.log(np.array(alldata_effluent))\n",
        "linreg = stats.linregress(log_alldata_effluent, alldata_uptake)\n",
        "slope, intercept, r_value = linreg[0:3]\n",
        "print(\"R-squared for line of best fit\", (r_value ** 2))\n",
        "\n",
        "# get theoretical Langmuir Isotherm\n",
        "theoretical = pd.read_csv('https://raw.githubusercontent.com/AguaClara/Fluoride-Auto/master/Spring%202019/Langmuir%20Isotherm%20Data/theoretical%20data%20points.csv')\n",
        "theoretical_effluent=theoretical.iloc[:,0]\n",
        "theoretical_uptake=theoretical.iloc[:,1]\n",
        "theoreticalplot, =plt.plot(theoretical_effluent,theoretical_uptake,\"m\")\n",
        "\n",
        "# plot the data set\n",
        "plt.xlim(0, 11)\n",
        "plt.ylim(0,400)\n",
        "plt.xlabel(\"Effluent Fluoride Concentration (mg/L)\")\n",
        "plt.ylabel(\"Uptake (mg Fluoride/g PaCl)\")\n",
        "plt.legend((summer18plot, fall18plot, spring19plot, summer19noclayplot, summer19clayplot, bestfit_plot,theoreticalplot),(\"Summer 2018\", \"Fall 2018\", \"Spring 2019\", \"Summer 2019 No Clay\", \"Summer 2019 Clay\", \"Line of Best Fit\",\"Theoretical Langmuir Isotherm\"))"
      ],
      "execution_count": 0,
      "outputs": []
    },
    {
      "cell_type": "markdown",
      "metadata": {
        "id": "fu00n2wL-xWr",
        "colab_type": "text"
      },
      "source": [
        "### Code for Graphing Clay vs. No Clay (Summer 2019)\n",
        "The following code is used to graph the Summer 2019 data points, which are distinguished by whether clay was used in each experiment or not. "
      ]
    },
    {
      "cell_type": "code",
      "metadata": {
        "id": "4MZmylWS-vDF",
        "colab_type": "code",
        "colab": {}
      },
      "source": [
        "import matplotlib.pyplot as plt\n",
        "import pandas as pd\n",
        "import scipy.stats as stats\n",
        "import numpy as np\n",
        "import scipy.optimize as opt\n",
        "\n",
        "# import the summer 2019 data without clay: summer19noclay\n",
        "summer19noclay = pd.read_csv('https://raw.githubusercontent.com/AguaClara/Fluoride-Auto/master/Summer%202019/No%20Clay.csv')\n",
        "summer19_noclay_effluent=summer19noclay.iloc[:,1]\n",
        "summer19_noclay_uptake=summer19noclay.iloc[:,4]\n",
        "summer19noclayplot, =plt.plot(summer19_noclay_effluent,summer19_noclay_uptake,\"mo\")\n",
        "\n",
        "# import the summer 2019 data with clay: summer19clay\n",
        "summer19clay = pd.read_csv('https://raw.githubusercontent.com/AguaClara/Fluoride-Auto/master/Summer%202019/Clay.csv')\n",
        "summer19_clay_effluent=summer19clay.iloc[:,1]\n",
        "summer19_clay_uptake=summer19clay.iloc[:,4]\n",
        "summer19clayplot, =plt.plot(summer19_clay_effluent,summer19_clay_uptake,\"bo\")\n",
        "\n",
        "# plot the data set\n",
        "plt.title(\"Summer 2019 Uptake vs. Effluent Points\")\n",
        "plt.xlim(0,6)\n",
        "plt.ylim(0,200)\n",
        "plt.xlabel(\"Effluent Fluoride Concentration (mg/L)\")\n",
        "plt.ylabel(\"Uptake (mg Fluoride/g PaCl)\")\n",
        "plt.legend((summer19noclayplot, summer19clayplot),(\"No Clay\", \"Clay\"))\n"
      ],
      "execution_count": 0,
      "outputs": []
    },
    {
      "cell_type": "markdown",
      "metadata": {
        "id": "WlIo1_DHCIlP",
        "colab_type": "text"
      },
      "source": [
        "### Code for Graphing Automated vs. Gravity (Summer 2019)\n",
        "The following code is used to graph the Summer 2019 data points, which are the successful experiments distinguished by the system that they were run in."
      ]
    },
    {
      "cell_type": "code",
      "metadata": {
        "colab_type": "code",
        "id": "iHRMSJLgCnKb",
        "colab": {}
      },
      "source": [
        "import matplotlib.pyplot as plt\n",
        "import pandas as pd\n",
        "import scipy.stats as stats\n",
        "import numpy as np\n",
        "import scipy.optimize as opt\n",
        "\n",
        "# import auto data\n",
        "summer19auto = pd.read_csv('https://raw.githubusercontent.com/AguaClara/Fluoride-Auto/master/Summer%202019/Data%20and%20Graphs/Working%20Experiments%20Auto.csv')\n",
        "summer19_auto_effluent=summer19auto.iloc[:,1]\n",
        "summer19_auto_uptake=summer19auto.iloc[:,4]\n",
        "summer19autoplot, =plt.plot(summer19_auto_effluent,summer19_auto_uptake,\"rs\")\n",
        "\n",
        "# import grav data\n",
        "summer19grav = pd.read_csv('https://raw.githubusercontent.com/AguaClara/Fluoride-Auto/master/Summer%202019/Data%20and%20Graphs/Working%20Experiments%20Grav.csv')\n",
        "summer19_grav_effluent=summer19grav.iloc[:,1]\n",
        "summer19_grav_uptake=summer19grav.iloc[:,4]\n",
        "summer19gravplot, =plt.plot(summer19_grav_effluent,summer19_grav_uptake,\"cs\")\n",
        "\n",
        "plt.title(\"Summer 2019 Uptake vs. Effluent Successful Experiments\")\n",
        "plt.xlim(0,6)\n",
        "plt.ylim(0,175)\n",
        "plt.xlabel(\"Effluent Fluoride Concentration (mg/L)\")\n",
        "plt.ylabel(\"Uptake (mg Fluoride/g PaCl)\")\n",
        "plt.legend((summer19autoplot, summer19gravplot), (\"Automated System\", \"Gravity System\"))\n",
        "plt.savefig(\"Working Graphs\")\n"
      ],
      "execution_count": 0,
      "outputs": []
    }
  ]
}